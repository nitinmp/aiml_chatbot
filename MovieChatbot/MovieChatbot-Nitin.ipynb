{
 "cells": [
  {
   "cell_type": "code",
   "execution_count": 2,
   "metadata": {},
   "outputs": [],
   "source": [
    "#from textblob import TextBlob\n",
    "#from attributegetter import *\n",
    "from generatengrams import ngrammatch\n",
    "from Contexts import *\n",
    "import json\n",
    "from Intents import *\n",
    "import random\n",
    "import os\n",
    "import re"
   ]
  },
  {
   "cell_type": "code",
   "execution_count": 3,
   "metadata": {},
   "outputs": [],
   "source": [
    "def check_actions(current_intent, attributes, context):\n",
    "    '''This function performs the action for the intent\n",
    "    as mentioned in the intent config file'''\n",
    "    '''Performs actions pertaining to current intent\n",
    "    for action in current_intent.actions:\n",
    "        if action.contexts_satisfied(active_contexts):\n",
    "            return perform_action()\n",
    "    '''\n",
    "    \n",
    "    \n",
    "    print(\"Please confirm if we can book\", attributes['NumberofTickets'] ,\"tickets for\", attributes['Movie'], \"movie on\", attributes['Showtime'] ,\"in theater\" , attributes['Theatres'],' ', attributes['location'],\" Yes or No\" )\n",
    "    context = IntentComplete()\n",
    "    return 'action: ' + current_intent.action, context\n",
    "\n",
    "def check_required_params(current_intent, attributes, context):\n",
    "    '''Collects attributes pertaining to the current intent'''    \n",
    "    for para in current_intent.params:\n",
    "         if para.required:\n",
    "            if para.name not in attributes:\n",
    "                context = current_intent.context\n",
    "                return random.choice(para.prompts), context\n",
    "    return None, context\n",
    "\n",
    "\n",
    "def input_processor(user_input, context, attributes, intent):\n",
    "    '''Spellcheck and entity extraction functions go here'''\n",
    "    \n",
    "    #uinput = TextBlob(user_input).correct().string\n",
    "    \n",
    "    #update the attributes, abstract over the entities in user input\n",
    "    attributes, cleaned_input = getattributes(user_input, context, attributes)\n",
    "    \n",
    "    return attributes, cleaned_input\n",
    "\n",
    "def loadIntent(path, intent):\n",
    "    with open(path) as fil:\n",
    "        dat = json.load(fil)\n",
    "        intent = dat[intent]\n",
    "        return Intent(intent['intentname'],intent['Parameters'], intent['actions'])\n",
    "\n",
    "def intentIdentifier(clean_input, context,current_intent):\n",
    "    clean_input = clean_input.lower()\n",
    "    scores = ngrammatch(clean_input)\n",
    "    scores = sorted_by_second = sorted(scores, key=lambda tup: tup[1])\n",
    "    # print clean_input\n",
    "    #print 'scores', scores\n",
    "    \n",
    "\n",
    "    if(current_intent==None):\n",
    "        if(clean_input==\"search\"):\n",
    "            return loadIntent('params/MovieParams2.cfg', 'SearchMovie')\n",
    "        if(clean_input=='book'):\n",
    "            return loadIntent('params/MovieParams2.cfg','BookMovie')\n",
    "        else:\n",
    "            return loadIntent('params/MovieParams2.cfg',scores[-1][0])\n",
    "    else:\n",
    "        #print 'same intent'\n",
    "        return current_intent\n",
    "\n",
    "def getattributes(uinput,context,attributes):\n",
    "    '''This function marks the entities in user input, and updates\n",
    "    the attributes dictionary'''\n",
    "    #Can use context to to context specific attribute fetching\n",
    "    if context.name.startswith('IntentComplete'):\n",
    "        return attributes, uinput\n",
    "    else:\n",
    "\n",
    "        files = os.listdir('./entities/')\n",
    "        entities = {}\n",
    "        for fil in files:\n",
    "            lines = open('./entities/'+fil).readlines()\n",
    "            for i, line in enumerate(lines):\n",
    "                lines[i] = line[:-1]\n",
    "            entities[fil[:-4]] = '|'.join(lines)\n",
    "\n",
    "        for entity in entities:\n",
    "            for i in entities[entity].split('|'):\n",
    "                if i.lower() in uinput.lower():\n",
    "                    attributes[entity] = i\n",
    "        for entity in entities:\n",
    "                uinput = re.sub(entities[entity],r'$'+entity,uinput,flags=re.IGNORECASE)\n",
    "\n",
    "        if context.name=='GetShowtime'   and context.active:\n",
    "            match = re.search('[0-9]+', uinput)\n",
    "            if match:\n",
    "                uinput = re.sub('[0-9]+', '$Showtime', uinput)\n",
    "                attributes['Showtime'] = match.group()\n",
    "                context.active = False\n",
    "        \n",
    "        if context.name=='Getnooftickets'   and context.active:\n",
    "            match = re.search('[0-9]+', uinput)\n",
    "            if match:\n",
    "                uinput = re.sub('[0-9]+', '$NumberofTickets', uinput)\n",
    "                attributes['NumberofTickets'] = match.group()\n",
    "                context.active = False\n",
    "        \n",
    "        if context.name=='Getconfirmation'   and context.active: \n",
    "            if uinput.lower() == 'yes':\n",
    "                attributes['Getconfirmation'] = uinput.lower()\n",
    "                context.active = False\n",
    "            if uinput.lower() == 'no':\n",
    "                print(\"Please start over\")\n",
    "                context.active = False\n",
    "            \n",
    "        \n",
    "    return attributes, uinput"
   ]
  },
  {
   "cell_type": "code",
   "execution_count": 4,
   "metadata": {},
   "outputs": [],
   "source": [
    "class Session:\n",
    "    def __init__(self, attributes=None, active_contexts=[FirstGreeting(), IntentComplete() ]):\n",
    "        \n",
    "        '''Initialise a default session'''\n",
    "        \n",
    "        #Contexts are flags which control dialogue flow, see Contexts.py\n",
    "        self.active_contexts = active_contexts\n",
    "        self.context = FirstGreeting()\n",
    "        \n",
    "        #Intent tracks the current state of dialogue\n",
    "        #self.current_intent = First_Greeting()\n",
    "        self.current_intent = None\n",
    "        \n",
    "        #attributes hold the information collected over the conversation\n",
    "        self.attributes = {}\n",
    "        \n",
    "    def update_contexts(self):\n",
    "        '''Not used yet, but is intended to maintain active contexts'''\n",
    "        for context in self.active_contexts:\n",
    "            if context.active:\n",
    "                context.decrease_lifespan()\n",
    "\n",
    "    def reply(self, user_input):\n",
    "        '''Generate response to user input'''\n",
    "        \n",
    "        self.attributes, clean_input = input_processor(user_input, self.context, self.attributes, self.current_intent)\n",
    "        \n",
    "        self.current_intent = intentIdentifier(clean_input, self.context, self.current_intent)\n",
    "        \n",
    "        prompt, self.context = check_required_params(self.current_intent, self.attributes, self.context)\n",
    "\n",
    "        #prompt being None means all parameters satisfied, perform the intent action\n",
    "        if prompt is None:\n",
    "            if self.context.name!='IntentComplete':\n",
    "                prompt, self.context = check_actions(self.current_intent, self.attributes, self.context)\n",
    "        \n",
    "        #Resets the state after the Intent is complete\n",
    "        if self.context.name=='IntentComplete':\n",
    "            self.attributes = {}\n",
    "            self.context = FirstGreeting()\n",
    "            self.current_intent = None\n",
    "        \n",
    "        return prompt"
   ]
  },
  {
   "cell_type": "code",
   "execution_count": 5,
   "metadata": {},
   "outputs": [
    {
     "name": "stdout",
     "output_type": "stream",
     "text": [
      "BOT: Hi! How may I assist you?\n",
      "User: i want to book a movie\n"
     ]
    },
    {
     "ename": "UnicodeDecodeError",
     "evalue": "'utf-8' codec can't decode byte 0xca in position 17: invalid continuation byte",
     "output_type": "error",
     "traceback": [
      "\u001b[0;31m---------------------------------------------------------------------------\u001b[0m",
      "\u001b[0;31mUnicodeDecodeError\u001b[0m                        Traceback (most recent call last)",
      "\u001b[0;32m<ipython-input-5-f50d129cc803>\u001b[0m in \u001b[0;36m<module>\u001b[0;34m()\u001b[0m\n\u001b[1;32m      9\u001b[0m         \u001b[0;32mbreak\u001b[0m\u001b[0;34m\u001b[0m\u001b[0m\n\u001b[1;32m     10\u001b[0m     \u001b[0;32melse\u001b[0m\u001b[0;34m:\u001b[0m\u001b[0;34m\u001b[0m\u001b[0m\n\u001b[0;32m---> 11\u001b[0;31m         \u001b[0mprint\u001b[0m \u001b[0;34m(\u001b[0m\u001b[0;34m'BOT:'\u001b[0m\u001b[0;34m,\u001b[0m \u001b[0msession\u001b[0m\u001b[0;34m.\u001b[0m\u001b[0mreply\u001b[0m\u001b[0;34m(\u001b[0m\u001b[0minp\u001b[0m\u001b[0;34m)\u001b[0m\u001b[0;34m)\u001b[0m\u001b[0;34m\u001b[0m\u001b[0m\n\u001b[0m",
      "\u001b[0;32m<ipython-input-4-f5e7f5328422>\u001b[0m in \u001b[0;36mreply\u001b[0;34m(self, user_input)\u001b[0m\n\u001b[1;32m     24\u001b[0m         \u001b[0;34m'''Generate response to user input'''\u001b[0m\u001b[0;34m\u001b[0m\u001b[0m\n\u001b[1;32m     25\u001b[0m \u001b[0;34m\u001b[0m\u001b[0m\n\u001b[0;32m---> 26\u001b[0;31m         \u001b[0mself\u001b[0m\u001b[0;34m.\u001b[0m\u001b[0mattributes\u001b[0m\u001b[0;34m,\u001b[0m \u001b[0mclean_input\u001b[0m \u001b[0;34m=\u001b[0m \u001b[0minput_processor\u001b[0m\u001b[0;34m(\u001b[0m\u001b[0muser_input\u001b[0m\u001b[0;34m,\u001b[0m \u001b[0mself\u001b[0m\u001b[0;34m.\u001b[0m\u001b[0mcontext\u001b[0m\u001b[0;34m,\u001b[0m \u001b[0mself\u001b[0m\u001b[0;34m.\u001b[0m\u001b[0mattributes\u001b[0m\u001b[0;34m,\u001b[0m \u001b[0mself\u001b[0m\u001b[0;34m.\u001b[0m\u001b[0mcurrent_intent\u001b[0m\u001b[0;34m)\u001b[0m\u001b[0;34m\u001b[0m\u001b[0m\n\u001b[0m\u001b[1;32m     27\u001b[0m \u001b[0;34m\u001b[0m\u001b[0m\n\u001b[1;32m     28\u001b[0m         \u001b[0mself\u001b[0m\u001b[0;34m.\u001b[0m\u001b[0mcurrent_intent\u001b[0m \u001b[0;34m=\u001b[0m \u001b[0mintentIdentifier\u001b[0m\u001b[0;34m(\u001b[0m\u001b[0mclean_input\u001b[0m\u001b[0;34m,\u001b[0m \u001b[0mself\u001b[0m\u001b[0;34m.\u001b[0m\u001b[0mcontext\u001b[0m\u001b[0;34m,\u001b[0m \u001b[0mself\u001b[0m\u001b[0;34m.\u001b[0m\u001b[0mcurrent_intent\u001b[0m\u001b[0;34m)\u001b[0m\u001b[0;34m\u001b[0m\u001b[0m\n",
      "\u001b[0;32m<ipython-input-3-dd6ec94f1f3d>\u001b[0m in \u001b[0;36minput_processor\u001b[0;34m(user_input, context, attributes, intent)\u001b[0m\n\u001b[1;32m     29\u001b[0m \u001b[0;34m\u001b[0m\u001b[0m\n\u001b[1;32m     30\u001b[0m     \u001b[0;31m#update the attributes, abstract over the entities in user input\u001b[0m\u001b[0;34m\u001b[0m\u001b[0;34m\u001b[0m\u001b[0m\n\u001b[0;32m---> 31\u001b[0;31m     \u001b[0mattributes\u001b[0m\u001b[0;34m,\u001b[0m \u001b[0mcleaned_input\u001b[0m \u001b[0;34m=\u001b[0m \u001b[0mgetattributes\u001b[0m\u001b[0;34m(\u001b[0m\u001b[0muser_input\u001b[0m\u001b[0;34m,\u001b[0m \u001b[0mcontext\u001b[0m\u001b[0;34m,\u001b[0m \u001b[0mattributes\u001b[0m\u001b[0;34m)\u001b[0m\u001b[0;34m\u001b[0m\u001b[0m\n\u001b[0m\u001b[1;32m     32\u001b[0m \u001b[0;34m\u001b[0m\u001b[0m\n\u001b[1;32m     33\u001b[0m     \u001b[0;32mreturn\u001b[0m \u001b[0mattributes\u001b[0m\u001b[0;34m,\u001b[0m \u001b[0mcleaned_input\u001b[0m\u001b[0;34m\u001b[0m\u001b[0m\n",
      "\u001b[0;32m<ipython-input-3-dd6ec94f1f3d>\u001b[0m in \u001b[0;36mgetattributes\u001b[0;34m(uinput, context, attributes)\u001b[0m\n\u001b[1;32m     69\u001b[0m         \u001b[0mentities\u001b[0m \u001b[0;34m=\u001b[0m \u001b[0;34m{\u001b[0m\u001b[0;34m}\u001b[0m\u001b[0;34m\u001b[0m\u001b[0m\n\u001b[1;32m     70\u001b[0m         \u001b[0;32mfor\u001b[0m \u001b[0mfil\u001b[0m \u001b[0;32min\u001b[0m \u001b[0mfiles\u001b[0m\u001b[0;34m:\u001b[0m\u001b[0;34m\u001b[0m\u001b[0m\n\u001b[0;32m---> 71\u001b[0;31m             \u001b[0mlines\u001b[0m \u001b[0;34m=\u001b[0m \u001b[0mopen\u001b[0m\u001b[0;34m(\u001b[0m\u001b[0;34m'./entities/'\u001b[0m\u001b[0;34m+\u001b[0m\u001b[0mfil\u001b[0m\u001b[0;34m)\u001b[0m\u001b[0;34m.\u001b[0m\u001b[0mreadlines\u001b[0m\u001b[0;34m(\u001b[0m\u001b[0;34m)\u001b[0m\u001b[0;34m\u001b[0m\u001b[0m\n\u001b[0m\u001b[1;32m     72\u001b[0m             \u001b[0;32mfor\u001b[0m \u001b[0mi\u001b[0m\u001b[0;34m,\u001b[0m \u001b[0mline\u001b[0m \u001b[0;32min\u001b[0m \u001b[0menumerate\u001b[0m\u001b[0;34m(\u001b[0m\u001b[0mlines\u001b[0m\u001b[0;34m)\u001b[0m\u001b[0;34m:\u001b[0m\u001b[0;34m\u001b[0m\u001b[0m\n\u001b[1;32m     73\u001b[0m                 \u001b[0mlines\u001b[0m\u001b[0;34m[\u001b[0m\u001b[0mi\u001b[0m\u001b[0;34m]\u001b[0m \u001b[0;34m=\u001b[0m \u001b[0mline\u001b[0m\u001b[0;34m[\u001b[0m\u001b[0;34m:\u001b[0m\u001b[0;34m-\u001b[0m\u001b[0;36m1\u001b[0m\u001b[0;34m]\u001b[0m\u001b[0;34m\u001b[0m\u001b[0m\n",
      "\u001b[0;32m/usr/lib/python3.5/codecs.py\u001b[0m in \u001b[0;36mdecode\u001b[0;34m(self, input, final)\u001b[0m\n\u001b[1;32m    319\u001b[0m         \u001b[0;31m# decode input (taking the buffer into account)\u001b[0m\u001b[0;34m\u001b[0m\u001b[0;34m\u001b[0m\u001b[0m\n\u001b[1;32m    320\u001b[0m         \u001b[0mdata\u001b[0m \u001b[0;34m=\u001b[0m \u001b[0mself\u001b[0m\u001b[0;34m.\u001b[0m\u001b[0mbuffer\u001b[0m \u001b[0;34m+\u001b[0m \u001b[0minput\u001b[0m\u001b[0;34m\u001b[0m\u001b[0m\n\u001b[0;32m--> 321\u001b[0;31m         \u001b[0;34m(\u001b[0m\u001b[0mresult\u001b[0m\u001b[0;34m,\u001b[0m \u001b[0mconsumed\u001b[0m\u001b[0;34m)\u001b[0m \u001b[0;34m=\u001b[0m \u001b[0mself\u001b[0m\u001b[0;34m.\u001b[0m\u001b[0m_buffer_decode\u001b[0m\u001b[0;34m(\u001b[0m\u001b[0mdata\u001b[0m\u001b[0;34m,\u001b[0m \u001b[0mself\u001b[0m\u001b[0;34m.\u001b[0m\u001b[0merrors\u001b[0m\u001b[0;34m,\u001b[0m \u001b[0mfinal\u001b[0m\u001b[0;34m)\u001b[0m\u001b[0;34m\u001b[0m\u001b[0m\n\u001b[0m\u001b[1;32m    322\u001b[0m         \u001b[0;31m# keep undecoded input until the next call\u001b[0m\u001b[0;34m\u001b[0m\u001b[0;34m\u001b[0m\u001b[0m\n\u001b[1;32m    323\u001b[0m         \u001b[0mself\u001b[0m\u001b[0;34m.\u001b[0m\u001b[0mbuffer\u001b[0m \u001b[0;34m=\u001b[0m \u001b[0mdata\u001b[0m\u001b[0;34m[\u001b[0m\u001b[0mconsumed\u001b[0m\u001b[0;34m:\u001b[0m\u001b[0;34m]\u001b[0m\u001b[0;34m\u001b[0m\u001b[0m\n",
      "\u001b[0;31mUnicodeDecodeError\u001b[0m: 'utf-8' codec can't decode byte 0xca in position 17: invalid continuation byte"
     ]
    }
   ],
   "source": [
    "session = Session()\n",
    "\n",
    "print ('BOT: Hi! How may I assist you?')\n",
    "\n",
    "while True:\n",
    "    \n",
    "    inp = input('User: ')\n",
    "    if inp == 'exit':\n",
    "        break\n",
    "    else:   \n",
    "        print ('BOT:', session.reply(inp))"
   ]
  },
  {
   "cell_type": "code",
   "execution_count": null,
   "metadata": {
    "collapsed": true
   },
   "outputs": [],
   "source": []
  },
  {
   "cell_type": "code",
   "execution_count": null,
   "metadata": {
    "collapsed": true
   },
   "outputs": [],
   "source": []
  },
  {
   "cell_type": "code",
   "execution_count": 7,
   "metadata": {},
   "outputs": [
    {
     "name": "stdout",
     "output_type": "stream",
     "text": [
      "{'location': 'Hyderabad'} $location\n"
     ]
    }
   ],
   "source": [
    "attributes = {}\n",
    "context = FirstGreeting()\n",
    "current_intent = None\n",
    "user_input = 'hyderabad'\n",
    "\n",
    "attributes, clean_input = input_processor(user_input, context, attributes, current_intent)\n",
    "print(attributes,clean_input)"
   ]
  },
  {
   "cell_type": "code",
   "execution_count": 9,
   "metadata": {},
   "outputs": [
    {
     "name": "stdout",
     "output_type": "stream",
     "text": [
      "Hyderabad\n"
     ]
    }
   ],
   "source": [
    "print(attributes['location'])"
   ]
  }
 ],
 "metadata": {
  "kernelspec": {
   "display_name": "Python 3",
   "language": "python",
   "name": "python3"
  },
  "language_info": {
   "codemirror_mode": {
    "name": "ipython",
    "version": 3
   },
   "file_extension": ".py",
   "mimetype": "text/x-python",
   "name": "python",
   "nbconvert_exporter": "python",
   "pygments_lexer": "ipython3",
   "version": "3.5.2"
  }
 },
 "nbformat": 4,
 "nbformat_minor": 2
}
