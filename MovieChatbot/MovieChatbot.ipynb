{
 "cells": [
  {
   "cell_type": "code",
   "execution_count": 1,
   "metadata": {},
   "outputs": [],
   "source": [
    "#from textblob import TextBlob\n",
    "#from attributegetter import *\n",
    "from generatengrams import ngrammatch\n",
    "from Contexts import *\n",
    "import json\n",
    "from Intents import *\n",
    "from spellcheck import *\n",
    "import random\n",
    "import os\n",
    "import re\n",
    "from termcolor import colored"
   ]
  },
  {
   "cell_type": "code",
   "execution_count": 2,
   "metadata": {},
   "outputs": [],
   "source": [
    "def listMovies(attributes):\n",
    "    return \"\"\n",
    "\n",
    "def listRestarunts(attributes):\n",
    "    return \"\""
   ]
  },
  {
   "cell_type": "code",
   "execution_count": 3,
   "metadata": {},
   "outputs": [],
   "source": [
    "def check_actions(current_intent, attributes, context):\n",
    "    '''This function performs the action for the intent\n",
    "    as mentioned in the intent config file'''\n",
    "    '''Performs actions pertaining to current intent\n",
    "    for action in current_intent.actions:\n",
    "        if action.contexts_satisfied(active_contexts):\n",
    "            return perform_action()\n",
    "    '''    \n",
    "    if current_intent.name == \"BookMovie\":\n",
    "        listMovies(attributes)\n",
    "    elif current_intent.name == \"RestaruntSearch\":\n",
    "        listRestarunts(attributes)\n",
    "    \n",
    "    context = IntentComplete()\n",
    "    return 'action: ' + current_intent.action, context\n",
    "\n",
    "def check_required_params(current_intent, attributes, context):\n",
    "    '''Collects attributes pertaining to the current intent'''\n",
    "    \n",
    "    for para in current_intent.params:\n",
    "         if para.required:\n",
    "            if para.name not in attributes:\n",
    "#                print(\"parametres       \",para.name)\n",
    "#                print(\"atrributes         \",attributes)\n",
    "#                print(\"current_intent         \",current_intent.name)\n",
    "#                print(\"context         \",para.context)\n",
    "                if para.name == 'Getconfirmation':\n",
    "                    print(\"Please confirm if we can book the restaurant for \", attributes)\n",
    "                    context = Getconfirmation()                        \n",
    "                if (current_intent.name == 'SearchMovie') and attributes != {}  :\n",
    "                    print(\"Do yo want to search with the entered attributes \",attributes)                   \n",
    "                    \n",
    "                return random.choice(para.prompts), context\n",
    "    return None, context\n",
    "\n",
    "\n",
    "def input_processor(user_input, context, attributes, intent):\n",
    "    '''Spellcheck and entity extraction functions go here'''\n",
    "    \n",
    "    #uinput = TextBlob(user_input).correct().string\n",
    "    \n",
    "    #update the attributes, abstract over the entities in user input\n",
    "    attributes, cleaned_input = getattributes(user_input, context, attributes,intent)\n",
    "    \n",
    "    return attributes, cleaned_input\n",
    "\n",
    "def loadIntent(path, intent):\n",
    "    with open(path) as fil:\n",
    "        dat = json.load(fil)\n",
    "        intent = dat[intent]\n",
    "        return Intent(intent['intentname'],intent['intentenglishname'],intent['Parameters'],intent['actions'])\n",
    "\n",
    "def intentIdentifier(clean_input, context,current_intent):\n",
    "    clean_input = clean_input.lower()\n",
    "    scores = ngrammatch(clean_input)\n",
    "    scores = sorted_by_second = sorted(scores, key=lambda tup: tup[1])\n",
    "    # print clean_input\n",
    "    #print 'scores', scores\n",
    "    \n",
    "\n",
    "    if(current_intent==None):\n",
    "        if(clean_input==\"search\"):\n",
    "            return loadIntent('params/MovieParams2.cfg', 'SearchMovie')\n",
    "        if(clean_input=='book'):\n",
    "            return loadIntent('params/MovieParams2.cfg','BookRestaurant')\n",
    "        else:\n",
    "            return loadIntent('params/MovieParams2.cfg',scores[-1][0])\n",
    "    else:\n",
    "        #print 'same intent'\n",
    "        return current_intent\n",
    "\n",
    "def getattributes(uinput,context,attributes,intent):\n",
    "    '''This function marks the entities in user input, and updates\n",
    "    the attributes dictionary'''\n",
    "    #Can use context to to context specific attribute fetching\n",
    "    if context.name.startswith('IntentComplete'):\n",
    "        return attributes, uinput\n",
    "    else:\n",
    "\n",
    "        files = os.listdir('./entities/')\n",
    "        entities = {}\n",
    "        for fil in files:\n",
    "            lines = open('./entities/'+fil).readlines()            \n",
    "            for i, line in enumerate(lines):\n",
    "                lines[i] = line[:-1]\n",
    "                #print(lines[i])\n",
    "            entities[fil[:-4]] = '|'.join(lines)\n",
    "            #print(entities[fil[:-4]])\n",
    "        #print(entities)\n",
    "\n",
    "        for entity in entities:\n",
    "            for i in entities[entity].split('|'):\n",
    "                if i.lower() in uinput.lower():\n",
    "                    attributes[entity] = i\n",
    "        for entity in entities:\n",
    "                uinput = re.sub(entities[entity],r'$'+entity,uinput,flags=re.IGNORECASE)\n",
    "        \n",
    "        if context.name =='Getconfirmation'   and context.active: \n",
    "            if uinput.lower() == 'yes':\n",
    "                #print(uinput.lower())\n",
    "                attributes['Getconfirmation'] = uinput.lower()\n",
    "                #print(attributes)\n",
    "                \n",
    "                context.active = False\n",
    "            if uinput.lower() == 'no':\n",
    "                print(\"Please enter the details for the  \", intent.englishname )\n",
    "                attributes ={}\n",
    "                context.active = True\n",
    "            \n",
    "        \n",
    "    return attributes, uinput"
   ]
  },
  {
   "cell_type": "code",
   "execution_count": 6,
   "metadata": {},
   "outputs": [],
   "source": [
    "class Session:\n",
    "    def __init__(self, attributes=None, active_contexts=[FirstGreeting(), IntentComplete() ]):\n",
    "        \n",
    "        '''Initialise a default session'''\n",
    "        \n",
    "        #Contexts are flags which control dialogue flow, see Contexts.py\n",
    "        self.active_contexts = active_contexts\n",
    "        self.context = FirstGreeting()\n",
    "        \n",
    "        #Intent tracks the current state of dialogue\n",
    "        #self.current_intent = First_Greeting()\n",
    "        self.current_intent = None\n",
    "        \n",
    "        #attributes hold the information collected over the conversation\n",
    "        self.attributes = {}\n",
    "        \n",
    "    def update_contexts(self):\n",
    "        '''Not used yet, but is intended to maintain active contexts'''\n",
    "        for context in self.active_contexts:\n",
    "            if context.active:\n",
    "                context.decrease_lifespan()\n",
    "\n",
    "    def reply(self, user_input):\n",
    "        '''Generate response to user input'''\n",
    "\n",
    "        user_input = split_line(user_input)\n",
    "        print(\"corrected: \",user_input)\n",
    "        self.attributes, clean_input = input_processor(user_input, self.context, self.attributes, self.current_intent)\n",
    "        \n",
    "        self.current_intent = intentIdentifier(clean_input, self.context, self.current_intent)\n",
    "        \n",
    "        prompt, self.context = check_required_params(self.current_intent, self.attributes, self.context)\n",
    "\n",
    "        #prompt being None means all parameters satisfied, perform the intent action\n",
    "        if prompt is None:\n",
    "            if self.context.name!='IntentComplete':\n",
    "                prompt, self.context = check_actions(self.current_intent, self.attributes, self.context)\n",
    "        \n",
    "        #Resets the state after the Intent is complete\n",
    "        if self.context.name=='IntentComplete':\n",
    "            self.attributes = {}\n",
    "            self.context = FirstGreeting()\n",
    "            self.current_intent = None\n",
    "        \n",
    "        return prompt"
   ]
  },
  {
   "cell_type": "code",
   "execution_count": null,
   "metadata": {},
   "outputs": [
    {
     "name": "stdout",
     "output_type": "stream",
     "text": [
      "\u001b[31m\u001b[1mBOT:\u001b[0m \u001b[32m\u001b[1mHi! How may I assist you?\u001b[0m\n",
      "User: movieee\n",
      "corrected:  movie\n",
      "\u001b[31m\u001b[1mBOT:\u001b[0m \u001b[32m\u001b[1mPlease specify movie language(Hindi,Telugu,English)?\u001b[0m\n"
     ]
    }
   ],
   "source": [
    "session = Session()\n",
    "\n",
    "print (colored('\\033[1m' + 'BOT:','red'), colored('\\033[1m'+'Hi! How may I assist you?','green'))\n",
    "\n",
    "while True:\n",
    "    inp = input('User: ')\n",
    "    if inp == 'exit':\n",
    "        print(colored('\\033[1m' + 'Bye then!','red'))\n",
    "        break\n",
    "    else:   \n",
    "        print(colored('\\033[1m' + 'BOT:','red'), colored('\\033[1m' + session.reply(inp),'green'))"
   ]
  },
  {
   "cell_type": "code",
   "execution_count": null,
   "metadata": {},
   "outputs": [],
   "source": []
  },
  {
   "cell_type": "code",
   "execution_count": null,
   "metadata": {},
   "outputs": [],
   "source": []
  },
  {
   "cell_type": "code",
   "execution_count": null,
   "metadata": {},
   "outputs": [],
   "source": [
    "attributes = {}\n",
    "context = FirstGreeting()\n",
    "current_intent = None\n",
    "user_input = 'low'\n",
    "\n",
    "attributes, clean_input = input_processor(user_input, context, attributes, current_intent)\n",
    "print(attributes,clean_input)"
   ]
  },
  {
   "cell_type": "code",
   "execution_count": 8,
   "metadata": {},
   "outputs": [
    {
     "name": "stdout",
     "output_type": "stream",
     "text": [
      "Dwayne Johnson|Rani Mukherji|Nikhil|Prabhas|Ajay Devgan\n",
      "Low|Medium|Hig\n",
      "Chinese|Italian|Mexican|Indian\n",
      "Today|Tomorrow|Dayafte\n",
      "Action|Comedy|Famil\n",
      "Telugu|English|Hind\n",
      "North|East|South|Wes\n",
      "{'Actor': 'Dwayne Johnson|Rani Mukherji|Nikhil|Prabhas|Ajay Devgan', 'costtype': 'Low|Medium|Hig', 'cuisine': 'Chinese|Italian|Mexican|Indian', 'date': 'Today|Tomorrow|Dayafte', 'genre': 'Action|Comedy|Famil', 'language': 'Telugu|English|Hind', 'location': 'North|East|South|Wes'}\n"
     ]
    },
    {
     "data": {
      "text/plain": [
       "({'costtype': 'Low'}, '$costtype')"
      ]
     },
     "execution_count": 8,
     "metadata": {},
     "output_type": "execute_result"
    }
   ],
   "source": [
    "getattributes(user_input,context,attributes)"
   ]
  },
  {
   "cell_type": "code",
   "execution_count": 10,
   "metadata": {
    "collapsed": true
   },
   "outputs": [],
   "source": [
    "current_intent = intentIdentifier(clean_input,context, current_intent)"
   ]
  },
  {
   "cell_type": "code",
   "execution_count": 11,
   "metadata": {},
   "outputs": [
    {
     "data": {
      "text/plain": [
       "'BookRestaurant'"
      ]
     },
     "execution_count": 11,
     "metadata": {},
     "output_type": "execute_result"
    }
   ],
   "source": [
    "current_intent.name"
   ]
  }
 ],
 "metadata": {
  "kernelspec": {
   "display_name": "Python 3",
   "language": "python",
   "name": "python3"
  },
  "language_info": {
   "codemirror_mode": {
    "name": "ipython",
    "version": 3
   },
   "file_extension": ".py",
   "mimetype": "text/x-python",
   "name": "python",
   "nbconvert_exporter": "python",
   "pygments_lexer": "ipython3",
   "version": "3.5.2"
  }
 },
 "nbformat": 4,
 "nbformat_minor": 2
}
