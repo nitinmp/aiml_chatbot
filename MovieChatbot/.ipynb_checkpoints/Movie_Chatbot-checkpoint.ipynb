{
 "cells": [
  {
   "cell_type": "code",
   "execution_count": 1,
   "metadata": {
    "collapsed": true
   },
   "outputs": [],
   "source": [
    "#from textblob import TextBlob\n",
    "#from attributegetter import *\n",
    "from generatengrams import ngrammatch\n",
    "from Contexts import *\n",
    "import json\n",
    "from Intents import *\n",
    "import random\n",
    "import os\n",
    "import re"
   ]
  },
  {
   "cell_type": "code",
   "execution_count": 2,
   "metadata": {
    "collapsed": true
   },
   "outputs": [],
   "source": [
    "def check_actions(current_intent, attributes, context):\n",
    "    '''This function performs the action for the intent\n",
    "    as mentioned in the intent config file'''\n",
    "    '''Performs actions pertaining to current intent\n",
    "    for action in current_intent.actions:\n",
    "        if action.contexts_satisfied(active_contexts):\n",
    "            return perform_action()\n",
    "    '''\n",
    "\n",
    "    context = IntentComplete()\n",
    "    return 'action: ' + current_intent.action, context\n",
    "\n",
    "def check_required_params(current_intent, attributes, context):\n",
    "    '''Collects attributes pertaining to the current intent'''\n",
    "\n",
    "    for para in current_intent.params:\n",
    "        if para.required:\n",
    "            if para.name not in attributes:\n",
    "                if para.name=='Showtime':\n",
    "                    context = GetShowtime()\n",
    "                if para.name == 'NumberofTickets':\n",
    "                    context = Getnooftickets() \n",
    "                return random.choice(para.prompts), context\n",
    "               \n",
    "    return None, context\n",
    "\n",
    "\n",
    "def input_processor(user_input, context, attributes, intent):\n",
    "    '''Spellcheck and entity extraction functions go here'''\n",
    "    \n",
    "    #uinput = TextBlob(user_input).correct().string\n",
    "    \n",
    "    #update the attributes, abstract over the entities in user input\n",
    "    attributes, cleaned_input = getattributes(user_input, context, attributes)\n",
    "    \n",
    "    return attributes, cleaned_input\n",
    "\n",
    "def loadIntent(path, intent):\n",
    "    with open(path) as fil:\n",
    "        dat = json.load(fil)\n",
    "        intent = dat[intent]\n",
    "        return Intent(intent['intentname'],intent['Parameters'], intent['actions'])\n",
    "\n",
    "def intentIdentifier(clean_input, context,current_intent):\n",
    "    clean_input = clean_input.lower()\n",
    "    scores = ngrammatch(clean_input)\n",
    "    scores = sorted_by_second = sorted(scores, key=lambda tup: tup[1])\n",
    "    #print (clean_input)\n",
    "    #print ('scores', scores)\n",
    "    \n",
    "\n",
    "    if(current_intent==None):\n",
    "        if(clean_input==\"search\"):\n",
    "            return loadIntent('params/MovieParams2.cfg', 'SearchMovie')\n",
    "        if(clean_input=='book'):\n",
    "            return loadIntent('params/MovieParams2.cfg','BookMovie')\n",
    "        else:\n",
    "            return loadIntent('params/MovieParams2.cfg',scores[-1][0])\n",
    "    else:\n",
    "        #print 'same intent'\n",
    "        return current_intent\n",
    "\n",
    "def getattributes(uinput,context,attributes):\n",
    "    '''This function marks the entities in user input, and updates\n",
    "    the attributes dictionary'''\n",
    "    #Can use context to to context specific attribute fetching\n",
    "    if context.name.startswith('IntentComplete'):\n",
    "        return attributes, uinput\n",
    "    else:\n",
    "\n",
    "        files = os.listdir('./entities/')\n",
    "        entities = {}\n",
    "        for fil in files:\n",
    "            lines = open('./entities/'+fil).readlines()\n",
    "            for i, line in enumerate(lines):\n",
    "                lines[i] = line[:-1]\n",
    "            entities[fil[:-4]] = '|'.join(lines)\n",
    "\n",
    "        for entity in entities:\n",
    "            for i in entities[entity].split('|'):\n",
    "                if i.lower() in uinput.lower():\n",
    "                    attributes[entity] = i\n",
    "        for entity in entities:\n",
    "                uinput = re.sub(entities[entity],r'$'+entity,uinput,flags=re.IGNORECASE)\n",
    "\n",
    "        if context.name=='GetRegNo'  and context.active:\n",
    "            match = re.search('[0-9]+', uinput)\n",
    "            if match:\n",
    "                uinput = re.sub('[0-9]+', '$regno', uinput)\n",
    "                attributes['RegNo'] = match.group()\n",
    "                context.active = False\n",
    "\n",
    "        return attributes, uinput"
   ]
  },
  {
   "cell_type": "code",
   "execution_count": 3,
   "metadata": {
    "collapsed": true
   },
   "outputs": [],
   "source": [
    "class Session:\n",
    "    def __init__(self, attributes=None, active_contexts=[FirstGreeting(), IntentComplete() ]):\n",
    "        \n",
    "        '''Initialise a default session'''\n",
    "        \n",
    "        #Contexts are flags which control dialogue flow, see Contexts.py\n",
    "        self.active_contexts = active_contexts\n",
    "        self.context = FirstGreeting()\n",
    "        \n",
    "        #Intent tracks the current state of dialogue\n",
    "        #self.current_intent = First_Greeting()\n",
    "        self.current_intent = None\n",
    "        \n",
    "        #attributes hold the information collected over the conversation\n",
    "        self.attributes = {}\n",
    "        \n",
    "    def update_contexts(self):\n",
    "        '''Not used yet, but is intended to maintain active contexts'''\n",
    "        for context in self.active_contexts:\n",
    "            if context.active:\n",
    "                context.decrease_lifespan()\n",
    "\n",
    "    def reply(self, user_input):\n",
    "        '''Generate response to user input'''\n",
    "        \n",
    "        self.attributes, clean_input = input_processor(user_input, self.context, self.attributes, self.current_intent)\n",
    "        \n",
    "        self.current_intent = intentIdentifier(clean_input, self.context, self.current_intent)\n",
    "        \n",
    "        prompt, self.context = check_required_params(self.current_intent, self.attributes, self.context)\n",
    "\n",
    "        #prompt being None means all parameters satisfied, perform the intent action\n",
    "        if prompt is None:\n",
    "            if self.context.name!='IntentComplete':\n",
    "                prompt, self.context = check_actions(self.current_intent, self.attributes, self.context)\n",
    "        \n",
    "        #Resets the state after the Intent is complete\n",
    "        if self.context.name=='IntentComplete':\n",
    "            self.attributes = {}\n",
    "            self.context = FirstGreeting()\n",
    "            self.current_intent = None\n",
    "        \n",
    "        return prompt"
   ]
  },
  {
   "cell_type": "code",
   "execution_count": 4,
   "metadata": {},
   "outputs": [
    {
     "name": "stdout",
     "output_type": "stream",
     "text": [
      "BOT: Hi! How may I assist you?\n",
      "User: I want to book a movie ticket\n",
      "BOT: In which city you want to search for the movie(eg: Hyderabad or Bangalore)?\n",
      "User: delhi\n",
      "BOT: In which city you want to search for the movie(eg: Hyderabad or Bangalore)?\n",
      "User: hyderabad\n",
      "BOT: Please enter the language of the movie(eg : Hindi,English,Telugu)?\n",
      "User: exit\n"
     ]
    }
   ],
   "source": [
    "session = Session()\n",
    "\n",
    "print ('BOT: Hi! How may I assist you?')\n",
    "\n",
    "while True:\n",
    "    \n",
    "    inp = input('User: ')\n",
    "    if inp == 'exit':\n",
    "        break\n",
    "    else:\n",
    "        print ('BOT:', session.reply(inp))"
   ]
  },
  {
   "cell_type": "markdown",
   "metadata": {},
   "source": [
    "Code Debugging starts here\n",
    "--------------------------------------------------------"
   ]
  },
  {
   "cell_type": "code",
   "execution_count": 6,
   "metadata": {},
   "outputs": [
    {
     "name": "stdout",
     "output_type": "stream",
     "text": [
      "{'NumberofTickets': ''} $NumberofTicketsI$NumberofTickets $NumberofTicketsw$NumberofTicketsa$NumberofTicketsn$NumberofTicketst$NumberofTickets $NumberofTicketst$NumberofTicketso$NumberofTickets $NumberofTicketsb$NumberofTicketso$NumberofTicketso$NumberofTicketsk$NumberofTickets $NumberofTicketsa$NumberofTickets $NumberofTicketsm$NumberofTicketso$NumberofTicketsv$NumberofTicketsi$NumberofTicketse$NumberofTickets $NumberofTicketst$NumberofTicketsi$NumberofTicketsc$NumberofTicketsk$NumberofTicketse$NumberofTicketst$NumberofTickets\n"
     ]
    }
   ],
   "source": [
    "test_attributes = {}\n",
    "test_userinput = 'I want to book a movie ticket'\n",
    "test_context = FirstGreeting()\n",
    "test_current_intent = None\n",
    "\n",
    "\n",
    "attributes, cleaned_testinput = input_processor(test_userinput, test_context, test_attributes, test_current_intent)\n",
    "print(attributes,cleaned_testinput)"
   ]
  },
  {
   "cell_type": "code",
   "execution_count": 7,
   "metadata": {},
   "outputs": [],
   "source": [
    "test_current_intent = intentIdentifier(cleaned_testinput, test_context, test_current_intent)"
   ]
  },
  {
   "cell_type": "code",
   "execution_count": 8,
   "metadata": {},
   "outputs": [
    {
     "name": "stdout",
     "output_type": "stream",
     "text": [
      "['In which city you want to search for the movie(eg: Hyderabad or Bangalore)?']\n",
      "['Please enter the language of the movie(eg : Hindi,English,Telugu)?']\n",
      "['Please specify the genre of the movie(eg : Action,Comedy,Family)?']\n",
      "['Enter the name of the Actor?']\n"
     ]
    }
   ],
   "source": [
    "for x in test_current_intent.params:\n",
    "    print (x.prompts)"
   ]
  },
  {
   "cell_type": "code",
   "execution_count": 4,
   "metadata": {
    "collapsed": true
   },
   "outputs": [],
   "source": [
    "sampleobject = loadIntent('params/MovieParams2.cfg', 'SearchMovie')"
   ]
  },
  {
   "cell_type": "code",
   "execution_count": 6,
   "metadata": {},
   "outputs": [
    {
     "name": "stdout",
     "output_type": "stream",
     "text": [
      "['location not found please choose one of the following locations(Hyderabad or bangalore)']\n",
      "['language error please enter one of the following languages(Hindi,English,Telugu) ']\n",
      "['genre not available please enter valid genre']\n",
      "['There a no movies of the specified actor currently please enter another actors name']\n"
     ]
    }
   ],
   "source": [
    "for a in sampleobject.params:\n",
    "    print (a.defaultprompts)"
   ]
  }
 ],
 "metadata": {
  "kernelspec": {
   "display_name": "Python 3",
   "language": "python",
   "name": "python3"
  },
  "language_info": {
   "codemirror_mode": {
    "name": "ipython",
    "version": 3
   },
   "file_extension": ".py",
   "mimetype": "text/x-python",
   "name": "python",
   "nbconvert_exporter": "python",
   "pygments_lexer": "ipython3",
   "version": "3.6.3"
  }
 },
 "nbformat": 4,
 "nbformat_minor": 2
}
