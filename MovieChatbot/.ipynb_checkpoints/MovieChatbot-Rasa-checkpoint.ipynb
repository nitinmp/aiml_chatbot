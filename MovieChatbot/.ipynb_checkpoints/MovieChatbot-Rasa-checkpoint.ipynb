{
 "cells": [
  {
   "cell_type": "code",
   "execution_count": 10,
   "metadata": {},
   "outputs": [],
   "source": [
    "#from textblob import TextBlob\n",
    "#from attributegetter import *\n",
    "\n",
    "from generatengrams import ngrammatch\n",
    "from Contexts import *\n",
    "import json\n",
    "from Intents import *\n",
    "import random\n",
    "import os\n",
    "import re\n",
    "from rasa_nlu.converters import load_data\n",
    "from rasa_nlu.config import RasaNLUConfig\n",
    "from rasa_nlu.model import Trainer\n",
    "from rasa_nlu.model import Metadata, Interpreter"
   ]
  },
  {
   "cell_type": "code",
   "execution_count": 46,
   "metadata": {},
   "outputs": [],
   "source": [
    "def check_actions(current_intent, attributes, context):\n",
    "    '''This function performs the action for the intent\n",
    "    as mentioned in the intent config file'''\n",
    "    '''Performs actions pertaining to current intent\n",
    "    for action in current_intent.actions:\n",
    "        if action.contexts_satisfied(active_contexts):\n",
    "            return perform_action()\n",
    "    '''\n",
    "    \n",
    "    \n",
    "    print(\"Please confirm if we can book\", attributes['NumberofTickets'] ,\"tickets for\", attributes['Movie'], \"movie on\", attributes['Showtime'] ,\"in theater\" , attributes['Theatres'],' ', attributes['location'],\" Yes or No\" )\n",
    "    context = IntentComplete()\n",
    "    return 'action: ' + current_intent.action, context\n",
    "\n",
    "def check_required_params(current_intent, attributes, context):\n",
    "    '''Collects attributes pertaining to the current intent'''\n",
    "    for param in current_intent.params:\n",
    "        \n",
    "         if param.required:\n",
    "            if param.name not in attributes:\n",
    "                context = param.context\n",
    "                return random.choice(param.prompts), context\n",
    "    return None, context\n",
    "\n",
    "def loadIntent(path, intent):\n",
    "    #print(path,intent)\n",
    "    with open(path) as fil:\n",
    "        dat = json.load(fil)\n",
    "        intent = dat[intent]\n",
    "        return Intent(intent['intentname'],intent['Parameters'], intent['actions'])\n",
    "\n"
   ]
  },
  {
   "cell_type": "code",
   "execution_count": 38,
   "metadata": {},
   "outputs": [],
   "source": [
    "def RasaIntentIdentifier(user_input, context, current_intent, interpreter):\n",
    "    clean_input = user_input.lower()\n",
    "    #scores = ngrammatch(clean_input)\n",
    "    #scores = sorted_by_second = sorted(scores, key=lambda tup: tup[1])\n",
    "    # print clean_input\n",
    "    #print 'scores', scores\n",
    "    \n",
    "    d = interpreter.parse(clean_input)\n",
    "    current_intent = d[\"intent\"][\"name\"]\n",
    "    attributes = {}\n",
    "    for entity in d[\"entities\"]:\n",
    "        attributes[entity[\"entity\"]] = entity[\"value\"]\n",
    "    \n",
    "    print(attributes)\n",
    "    if(current_intent == \"movie_search\"):\n",
    "        return loadIntent('params/MovieParams2.cfg', 'SearchMovie'), attributes\n",
    "    else:\n",
    "        #print 'same intent'\n",
    "        return current_intent\n"
   ]
  },
  {
   "cell_type": "code",
   "execution_count": 3,
   "metadata": {
    "collapsed": true
   },
   "outputs": [],
   "source": [
    "class Session:\n",
    "    def __init__(self, attributes=None, active_contexts=[FirstGreeting(), IntentComplete() ]):\n",
    "        \n",
    "        '''Initialise a default session'''\n",
    "        \n",
    "        #Contexts are flags which control dialogue flow, see Contexts.py\n",
    "        self.active_contexts = active_contexts\n",
    "        self.context = FirstGreeting()\n",
    "        \n",
    "        #Intent tracks the current state of dialogue\n",
    "        #self.current_intent = First_Greeting()\n",
    "        self.current_intent = None\n",
    "        \n",
    "        #attributes hold the information collected over the conversation\n",
    "        self.attributes = {}\n",
    "        model_directory = \"models/movie/default/model_20180323-165349\"\n",
    "        self.interpreter = Interpreter.load(model_directory, RasaNLUConfig(\"config_spacy.json\"))\n",
    "\n",
    "    def update_contexts(self):\n",
    "        '''Not used yet, but is intended to maintain active contexts'''\n",
    "        for context in self.active_contexts:\n",
    "            if context.active:\n",
    "                context.decrease_lifespan()\n",
    "\n",
    "    def reply(self, user_input):\n",
    "        '''Generate response to user input'''\n",
    "        \n",
    "        #self.attributes, clean_input = input_processor(user_input, self.context, self.attributes, self.current_intent)\n",
    "        current_attributes = {}\n",
    "        self.current_intent,current_attributes = RasaIntentIdentifier(clean_input, self.context, self.current_intent, self.interpreter)\n",
    "        self.attributes.update(current_attributes)\n",
    "        \n",
    "        prompt, self.context = check_required_params(self.current_intent, self.attributes, self.context)\n",
    "\n",
    "        #prompt being None means all parameters satisfied, perform the intent action\n",
    "        if prompt is None:\n",
    "            if self.context.name!='IntentComplete':\n",
    "                prompt, self.context = check_actions(self.current_intent, self.attributes, self.context)\n",
    "        \n",
    "        #Resets the state after the Intent is complete\n",
    "        if self.context.name=='IntentComplete':\n",
    "            self.attributes = {}\n",
    "            self.context = FirstGreeting()\n",
    "            self.current_intent = None\n",
    "        \n",
    "        return prompt"
   ]
  },
  {
   "cell_type": "code",
   "execution_count": 4,
   "metadata": {},
   "outputs": [
    {
     "name": "stdout",
     "output_type": "stream",
     "text": [
      "BOT: Hi! How may I assist you?\n",
      "User: I want to book\n",
      "BOT: what is your current city(eg :Hyderabad or Bangalore)\n",
      "User: hyderabad\n",
      "BOT: What is the the name of the movie?\n",
      "User: bahubali\n",
      "BOT: In which Theatre you want to watch the movie?\n",
      "User: pvr\n",
      "Hi\n",
      "BOT: please enter the date and Showtime?\n",
      "User: 24th march\n",
      "Hi\n",
      "BOT: Please enter the no of tickets you want to book(Enter a number not greater than 6)?\n",
      "User: 4\n",
      "Hi\n",
      "BOT: Please enter Yes or no?\n",
      "User: yes\n",
      "Please confirm if we can book 4 tickets for Bahubali movie on 24 in theater PVR   Hyderabad  Yes or No\n",
      "BOT: action: Bookingconfirmed\n",
      "User: exit\n"
     ]
    }
   ],
   "source": [
    "session = Session()\n",
    "\n",
    "print ('BOT: Hi! How may I assist you?')\n",
    "\n",
    "while True:\n",
    "    \n",
    "    inp = input('User: ')\n",
    "    if inp == 'exit':\n",
    "        break\n",
    "    else:   \n",
    "        print ('BOT:', session.reply(inp))"
   ]
  },
  {
   "cell_type": "code",
   "execution_count": null,
   "metadata": {
    "collapsed": true
   },
   "outputs": [],
   "source": []
  },
  {
   "cell_type": "code",
   "execution_count": null,
   "metadata": {
    "collapsed": true
   },
   "outputs": [],
   "source": []
  },
  {
   "cell_type": "code",
   "execution_count": 9,
   "metadata": {},
   "outputs": [
    {
     "name": "stdout",
     "output_type": "stream",
     "text": [
      "{'name': 'movie_search', 'confidence': 0.7065738492559193} [{'end': 41, 'extractor': 'ner_crf', 'entity': 'location', 'start': 31, 'value': 'gachibowli'}]\n"
     ]
    },
    {
     "name": "stderr",
     "output_type": "stream",
     "text": [
      "/usr/local/lib/python3.5/dist-packages/sklearn/preprocessing/label.py:151: DeprecationWarning: The truth value of an empty array is ambiguous. Returning False, but in future this will result in an error. Use `array.size > 0` to check that an array is not empty.\n",
      "  if diff:\n"
     ]
    }
   ],
   "source": [
    "d = interpreter.parse(\"i'm looking for a movie in the gachibowli\")\n",
    "#print(d)\n",
    "print(d[\"intent\"],d[\"entities\"])"
   ]
  },
  {
   "cell_type": "code",
   "execution_count": 57,
   "metadata": {},
   "outputs": [
    {
     "name": "stdout",
     "output_type": "stream",
     "text": [
      "{'location': 'gachibowli', 'language': 'telugu'}\n",
      "SearchMovie [<Intents.Parameter object at 0x7ff44cdc8a90>, <Intents.Parameter object at 0x7ff44cdc8e80>, <Intents.Parameter object at 0x7ff44cdc8208>] {'location': 'gachibowli', 'language': 'telugu'}\n"
     ]
    },
    {
     "name": "stderr",
     "output_type": "stream",
     "text": [
      "/usr/local/lib/python3.5/dist-packages/sklearn/preprocessing/label.py:151: DeprecationWarning: The truth value of an empty array is ambiguous. Returning False, but in future this will result in an error. Use `array.size > 0` to check that an array is not empty.\n",
      "  if diff:\n"
     ]
    }
   ],
   "source": [
    "temp_context = None\n",
    "temp_current_intent = FirstGreeting()\n",
    "clean_input = \"i'm looking for a telugu movie in the gachibowli\"\n",
    "temp_attributes = {}\n",
    "temp_intent,temp_attributes = RasaIntentIdentifier(clean_input, temp_context, temp_current_intent, interpreter)\n",
    "print(temp_intent.name,temp_intent.params,temp_attributes)"
   ]
  },
  {
   "cell_type": "code",
   "execution_count": 58,
   "metadata": {},
   "outputs": [
    {
     "ename": "NameError",
     "evalue": "name 'GetGenre' is not defined",
     "output_type": "error",
     "traceback": [
      "\u001b[0;31m---------------------------------------------------------------------------\u001b[0m",
      "\u001b[0;31mNameError\u001b[0m                                 Traceback (most recent call last)",
      "\u001b[0;32m<ipython-input-58-f461e21a6126>\u001b[0m in \u001b[0;36m<module>\u001b[0;34m()\u001b[0m\n\u001b[0;32m----> 1\u001b[0;31m \u001b[0mtemp_prompt\u001b[0m\u001b[0;34m,\u001b[0m \u001b[0mtemp_context\u001b[0m \u001b[0;34m=\u001b[0m \u001b[0mcheck_required_params\u001b[0m\u001b[0;34m(\u001b[0m\u001b[0mtemp_intent\u001b[0m\u001b[0;34m,\u001b[0m \u001b[0mtemp_attributes\u001b[0m\u001b[0;34m,\u001b[0m \u001b[0mtemp_context\u001b[0m\u001b[0;34m)\u001b[0m\u001b[0;34m\u001b[0m\u001b[0m\n\u001b[0m\u001b[1;32m      2\u001b[0m \u001b[0mprint\u001b[0m\u001b[0;34m(\u001b[0m\u001b[0mtemp_attributes\u001b[0m\u001b[0;34m)\u001b[0m\u001b[0;34m\u001b[0m\u001b[0m\n\u001b[1;32m      3\u001b[0m \u001b[0mprint\u001b[0m\u001b[0;34m(\u001b[0m\u001b[0mtemp_prompt\u001b[0m\u001b[0;34m)\u001b[0m\u001b[0;34m\u001b[0m\u001b[0m\n\u001b[1;32m      4\u001b[0m \u001b[0mprint\u001b[0m\u001b[0;34m(\u001b[0m\u001b[0mtemp_context\u001b[0m\u001b[0;34m)\u001b[0m\u001b[0;34m\u001b[0m\u001b[0m\n",
      "\u001b[0;32m<ipython-input-46-f43a488c01d6>\u001b[0m in \u001b[0;36mcheck_required_params\u001b[0;34m(current_intent, attributes, context)\u001b[0m\n\u001b[1;32m     23\u001b[0m                     \u001b[0mcontext\u001b[0m \u001b[0;34m=\u001b[0m \u001b[0mGetLanguage\u001b[0m\u001b[0;34m(\u001b[0m\u001b[0;34m)\u001b[0m\u001b[0;34m\u001b[0m\u001b[0m\n\u001b[1;32m     24\u001b[0m                 \u001b[0;32mif\u001b[0m \u001b[0mpara\u001b[0m\u001b[0;34m.\u001b[0m\u001b[0mname\u001b[0m \u001b[0;34m==\u001b[0m \u001b[0;34m'genre'\u001b[0m\u001b[0;34m:\u001b[0m\u001b[0;34m\u001b[0m\u001b[0m\n\u001b[0;32m---> 25\u001b[0;31m                     \u001b[0mcontext\u001b[0m \u001b[0;34m=\u001b[0m \u001b[0mGetGenre\u001b[0m\u001b[0;34m(\u001b[0m\u001b[0;34m)\u001b[0m\u001b[0;34m\u001b[0m\u001b[0m\n\u001b[0m\u001b[1;32m     26\u001b[0m                 \u001b[0;32mreturn\u001b[0m \u001b[0mrandom\u001b[0m\u001b[0;34m.\u001b[0m\u001b[0mchoice\u001b[0m\u001b[0;34m(\u001b[0m\u001b[0mpara\u001b[0m\u001b[0;34m.\u001b[0m\u001b[0mprompts\u001b[0m\u001b[0;34m)\u001b[0m\u001b[0;34m,\u001b[0m \u001b[0mcontext\u001b[0m\u001b[0;34m\u001b[0m\u001b[0m\n\u001b[1;32m     27\u001b[0m     \u001b[0;32mreturn\u001b[0m \u001b[0;32mNone\u001b[0m\u001b[0;34m,\u001b[0m \u001b[0mcontext\u001b[0m\u001b[0;34m\u001b[0m\u001b[0m\n",
      "\u001b[0;31mNameError\u001b[0m: name 'GetGenre' is not defined"
     ]
    }
   ],
   "source": [
    "temp_prompt, temp_context = check_required_params(temp_intent, temp_attributes, temp_context)\n",
    "print(temp_attributes)\n",
    "print(temp_prompt)\n",
    "print(temp_context)\n"
   ]
  },
  {
   "cell_type": "code",
   "execution_count": 53,
   "metadata": {},
   "outputs": [
    {
     "name": "stdout",
     "output_type": "stream",
     "text": [
      "location ['In which city you want to search for the movie(eg: Hyderabad or Bangalore)?']\n",
      "language ['Please enter the language of the movie(eg : Hindi,English,Telugu)?']\n",
      "genre ['Please specify the genre of the movie(eg : Action,Comedy,Family)?']\n"
     ]
    }
   ],
   "source": [
    "for i in temp_intent.params:\n",
    "    print(i.name, i.prompts)"
   ]
  },
  {
   "cell_type": "code",
   "execution_count": null,
   "metadata": {},
   "outputs": [],
   "source": []
  }
 ],
 "metadata": {
  "kernelspec": {
   "display_name": "Python 3",
   "language": "python",
   "name": "python3"
  },
  "language_info": {
   "codemirror_mode": {
    "name": "ipython",
    "version": 3
   },
   "file_extension": ".py",
   "mimetype": "text/x-python",
   "name": "python",
   "nbconvert_exporter": "python",
   "pygments_lexer": "ipython3",
   "version": "3.5.2"
  }
 },
 "nbformat": 4,
 "nbformat_minor": 2
}
