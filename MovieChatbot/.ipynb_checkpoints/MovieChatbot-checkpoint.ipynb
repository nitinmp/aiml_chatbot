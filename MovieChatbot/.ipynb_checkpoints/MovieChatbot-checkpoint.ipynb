{
 "cells": [
  {
   "cell_type": "code",
   "execution_count": 30,
   "metadata": {
    "collapsed": true
   },
   "outputs": [],
   "source": [
    "#from textblob import TextBlob\n",
    "#from attributegetter import *\n",
    "from generatengrams import ngrammatch\n",
    "from Contexts import *\n",
    "import json\n",
    "from Intents import *\n",
    "import random\n",
    "import os\n",
    "import re"
   ]
  },
  {
   "cell_type": "code",
   "execution_count": 31,
   "metadata": {
    "collapsed": true
   },
   "outputs": [],
   "source": [
    "def check_actions(current_intent, attributes, context):\n",
    "    '''This function performs the action for the intent\n",
    "    as mentioned in the intent config file'''\n",
    "    '''Performs actions pertaining to current intent\n",
    "    for action in current_intent.actions:\n",
    "        if action.contexts_satisfied(active_contexts):\n",
    "            return perform_action()\n",
    "    '''\n",
    "    \n",
    "    \n",
    "    print(\"Please confirm if we can book\", attributes['NumberofTickets'] ,\"tickets for\", attributes['Movie'], \"movie on\", attributes['Showtime'] ,\"in theater\" , attributes['Theatres'],' ', attributes['location'],\" Yes or No\" )\n",
    "    context = IntentComplete()\n",
    "    return 'action: ' + current_intent.action, context\n",
    "\n",
    "def check_required_params(current_intent, attributes, context):\n",
    "    '''Collects attributes pertaining to the current intent'''\n",
    "    \n",
    "    for para in current_intent.params:\n",
    "         if para.required:\n",
    "            if para.name not in attributes:\n",
    "                if para.name =='Showtime':\n",
    "                     context = GetShowtime()\n",
    "                if para.name == 'NumberofTickets':\n",
    "                    context = Getnooftickets()\n",
    "                if para.name == 'Getconfirmation':\n",
    "                    context = Getconfirmation()\n",
    "                return random.choice(para.prompts), context\n",
    "\n",
    "\n",
    "    return None, context\n",
    "\n",
    "\n",
    "def input_processor(user_input, context, attributes, intent):\n",
    "    '''Spellcheck and entity extraction functions go here'''\n",
    "    \n",
    "    #uinput = TextBlob(user_input).correct().string\n",
    "    \n",
    "    #update the attributes, abstract over the entities in user input\n",
    "    attributes, cleaned_input = getattributes(user_input, context, attributes)\n",
    "    \n",
    "    return attributes, cleaned_input\n",
    "\n",
    "def loadIntent(path, intent):\n",
    "    with open(path) as fil:\n",
    "        dat = json.load(fil)\n",
    "        intent = dat[intent]\n",
    "        return Intent(intent['intentname'],intent['Parameters'], intent['actions'])\n",
    "\n",
    "def intentIdentifier(clean_input, context,current_intent):\n",
    "    clean_input = clean_input.lower()\n",
    "    scores = ngrammatch(clean_input)\n",
    "    scores = sorted_by_second = sorted(scores, key=lambda tup: tup[1])\n",
    "    # print clean_input\n",
    "    #print 'scores', scores\n",
    "    \n",
    "\n",
    "    if(current_intent==None):\n",
    "        if(clean_input==\"search\"):\n",
    "            return loadIntent('params/MovieParams2.cfg', 'SearchMovie')\n",
    "        if(clean_input=='book'):\n",
    "            return loadIntent('params/MovieParams2.cfg','BookMovie')\n",
    "        else:\n",
    "            return loadIntent('params/MovieParams2.cfg',scores[-1][0])\n",
    "    else:\n",
    "        #print 'same intent'\n",
    "        return current_intent\n",
    "\n",
    "def getattributes(uinput,context,attributes):\n",
    "    '''This function marks the entities in user input, and updates\n",
    "    the attributes dictionary'''\n",
    "    #Can use context to to context specific attribute fetching\n",
    "    if context.name.startswith('IntentComplete'):\n",
    "        return attributes, uinput\n",
    "    else:\n",
    "\n",
    "        files = os.listdir('./entities/')\n",
    "        entities = {}\n",
    "        for fil in files:\n",
    "            lines = open('./entities/'+fil).readlines()\n",
    "            for i, line in enumerate(lines):\n",
    "                lines[i] = line[:-1]\n",
    "            entities[fil[:-4]] = '|'.join(lines)\n",
    "\n",
    "        for entity in entities:\n",
    "            for i in entities[entity].split('|'):\n",
    "                if i.lower() in uinput.lower():\n",
    "                    attributes[entity] = i\n",
    "        for entity in entities:\n",
    "                uinput = re.sub(entities[entity],r'$'+entity,uinput,flags=re.IGNORECASE)\n",
    "\n",
    "        if context.name=='GetShowtime'   and context.active:\n",
    "            match = re.search('[0-9]+', uinput)\n",
    "            if match:\n",
    "                uinput = re.sub('[0-9]+', '$Showtime', uinput)\n",
    "                attributes['Showtime'] = match.group()\n",
    "                context.active = False\n",
    "        \n",
    "        if context.name=='Getnooftickets'   and context.active:\n",
    "            match = re.search('[0-9]+', uinput)\n",
    "            if match:\n",
    "                uinput = re.sub('[0-9]+', '$NumberofTickets', uinput)\n",
    "                attributes['NumberofTickets'] = match.group()\n",
    "                context.active = False\n",
    "        \n",
    "        if context.name=='Getconfirmation'   and context.active: \n",
    "            if uinput.lower() == 'yes':\n",
    "                attributes['Getconfirmation'] = uinput.lower()\n",
    "                context.active = False\n",
    "            if uinput.lower() == 'no':\n",
    "                print(\"Please start over\")\n",
    "                context.active = False\n",
    "            \n",
    "        \n",
    "    return attributes, uinput"
   ]
  },
  {
   "cell_type": "code",
   "execution_count": 32,
   "metadata": {
    "collapsed": true
   },
   "outputs": [],
   "source": [
    "class Session:\n",
    "    def __init__(self, attributes=None, active_contexts=[FirstGreeting(), IntentComplete() ]):\n",
    "        \n",
    "        '''Initialise a default session'''\n",
    "        \n",
    "        #Contexts are flags which control dialogue flow, see Contexts.py\n",
    "        self.active_contexts = active_contexts\n",
    "        self.context = FirstGreeting()\n",
    "        \n",
    "        #Intent tracks the current state of dialogue\n",
    "        #self.current_intent = First_Greeting()\n",
    "        self.current_intent = None\n",
    "        \n",
    "        #attributes hold the information collected over the conversation\n",
    "        self.attributes = {}\n",
    "        \n",
    "    def update_contexts(self):\n",
    "        '''Not used yet, but is intended to maintain active contexts'''\n",
    "        for context in self.active_contexts:\n",
    "            if context.active:\n",
    "                context.decrease_lifespan()\n",
    "\n",
    "    def reply(self, user_input):\n",
    "        '''Generate response to user input'''\n",
    "        \n",
    "        self.attributes, clean_input = input_processor(user_input, self.context, self.attributes, self.current_intent)\n",
    "        \n",
    "        self.current_intent = intentIdentifier(clean_input, self.context, self.current_intent)\n",
    "        \n",
    "        prompt, self.context = check_required_params(self.current_intent, self.attributes, self.context)\n",
    "\n",
    "        #prompt being None means all parameters satisfied, perform the intent action\n",
    "        if prompt is None:\n",
    "            if self.context.name!='IntentComplete':\n",
    "                prompt, self.context = check_actions(self.current_intent, self.attributes, self.context)\n",
    "        \n",
    "        #Resets the state after the Intent is complete\n",
    "        if self.context.name=='IntentComplete':\n",
    "            self.attributes = {}\n",
    "            self.context = FirstGreeting()\n",
    "            self.current_intent = None\n",
    "        \n",
    "        return prompt"
   ]
  },
  {
   "cell_type": "code",
   "execution_count": null,
   "metadata": {},
   "outputs": [
    {
     "name": "stdout",
     "output_type": "stream",
     "text": [
      "BOT: Hi! How may I assist you?\n",
      "User: I want ot book\n",
      "BOT: Please specify the city(eg : Hyderabad or Bangalore)\n",
      "User: hyderabad\n",
      "BOT: What is the the name of the movie?\n",
      "User: bahubali\n",
      "BOT: In which Theatre you want to watch the movie?\n",
      "User: pvr\n",
      "Hi\n",
      "BOT: please enter the date and Showtime?\n",
      "User: 24 th march 2018 1pm\n",
      "Hi\n",
      "BOT: Please enter the no of tickets you want to book(Enter a number not greater than 6)?\n",
      "User: 4\n",
      "BOT: Please enter Yes or no?\n",
      "User: yes\n",
      "BOT: Please enter Yes or no?\n",
      "User: yes\n",
      "BOT: Please enter Yes or no?\n"
     ]
    }
   ],
   "source": [
    "session = Session()\n",
    "\n",
    "print ('BOT: Hi! How may I assist you?')\n",
    "\n",
    "while True:\n",
    "    \n",
    "    inp = input('User: ')\n",
    "    if inp == 'exit':\n",
    "        break\n",
    "    else:   \n",
    "        print ('BOT:', session.reply(inp))"
   ]
  },
  {
   "cell_type": "code",
   "execution_count": null,
   "metadata": {
    "collapsed": true
   },
   "outputs": [],
   "source": []
  },
  {
   "cell_type": "code",
   "execution_count": null,
   "metadata": {
    "collapsed": true
   },
   "outputs": [],
   "source": []
  },
  {
   "cell_type": "code",
   "execution_count": 7,
   "metadata": {},
   "outputs": [
    {
     "name": "stdout",
     "output_type": "stream",
     "text": [
      "{'location': 'Hyderabad'} $location\n"
     ]
    }
   ],
   "source": [
    "attributes = {}\n",
    "context = FirstGreeting()\n",
    "current_intent = None\n",
    "user_input = 'hyderabad'\n",
    "\n",
    "attributes, clean_input = input_processor(user_input, context, attributes, current_intent)\n",
    "print(attributes,clean_input)"
   ]
  },
  {
   "cell_type": "code",
   "execution_count": 9,
   "metadata": {},
   "outputs": [
    {
     "name": "stdout",
     "output_type": "stream",
     "text": [
      "Hyderabad\n"
     ]
    }
   ],
   "source": [
    "print(attributes['location'])"
   ]
  }
 ],
 "metadata": {
  "kernelspec": {
   "display_name": "Python 3",
   "language": "python",
   "name": "python3"
  },
  "language_info": {
   "codemirror_mode": {
    "name": "ipython",
    "version": 3
   },
   "file_extension": ".py",
   "mimetype": "text/x-python",
   "name": "python",
   "nbconvert_exporter": "python",
   "pygments_lexer": "ipython3",
   "version": "3.6.3"
  }
 },
 "nbformat": 4,
 "nbformat_minor": 2
}
