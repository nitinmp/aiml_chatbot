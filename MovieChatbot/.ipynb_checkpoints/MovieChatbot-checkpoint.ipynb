{
 "cells": [
  {
   "cell_type": "code",
   "execution_count": 5,
   "metadata": {},
   "outputs": [],
   "source": [
    "#from textblob import TextBlob\n",
    "#from attributegetter import *\n",
    "from generatengrams import ngrammatch\n",
    "from Contexts import *\n",
    "import json\n",
    "from Intents import *\n",
    "from spellcheck import *\n",
    "import random\n",
    "import os\n",
    "import re\n",
    "import pandas as pd\n",
    "from termcolor import colored"
   ]
  },
  {
   "cell_type": "code",
   "execution_count": 6,
   "metadata": {},
   "outputs": [],
   "source": [
    "def listMovies(attributes):\n",
    "    return getResult(attributes, \"db/movies.csv\")\n",
    "\n",
    "def listRestarunts(attributes):\n",
    "    return getResult(attributes, \"db/restaurants.csv\")\n",
    "\n",
    "def formatAttributes(attributes):\n",
    "    message = \"\"\n",
    "    for key in attributes:\n",
    "        message = \"\\033[1m\" + message + key + \": \" + attributes[key] + \"\\n\"\n",
    "    return message\n",
    "\n",
    "def botSays(message):\n",
    "    print(colored('\\033[1m' + message,'green'))\n",
    "    \n",
    "def getResult(dictAttr, filename):\n",
    "    selectedData = pd.read_csv(filename)\n",
    "    for col,val in dictAttr.items():\n",
    "        if col != \"Getconfirmation\":\n",
    "            selectedData = selectedData.loc[selectedData[col]==val]\n",
    "    return selectedData\n"
   ]
  },
  {
   "cell_type": "code",
   "execution_count": 7,
   "metadata": {},
   "outputs": [],
   "source": [
    "def check_actions(current_intent, attributes, context):\n",
    "    '''This function performs the action for the intent as mentioned in the intent config file'''\n",
    "    '''Performs actions pertaining to current intent for action in current_intent.actions: '''\n",
    "    \n",
    "    if current_intent == None:\n",
    "        return None, context\n",
    "\n",
    "    results = []\n",
    "    if current_intent.name == \"SearchMovie\":\n",
    "        results= listMovies(attributes)\n",
    "    if current_intent.name == \"BookRestaurant\":\n",
    "        results = listRestarunts(attributes)\n",
    "    \n",
    "    if len(results) > 0:\n",
    "        message = results.to_string()\n",
    "    else:\n",
    "        message = \"Sorry, I could not find results as per your criteria. Please try again. :(\"\n",
    "    \n",
    "    context = IntentComplete()\n",
    "    return 'action: ' + current_intent.action + \"\\n\" + message, context\n",
    "\n",
    "def check_required_params(current_intent, attributes, context):\n",
    "    '''Collects attributes pertaining to the current intent'''\n",
    "    \n",
    "    for para in current_intent.params:\n",
    "         if para.required:\n",
    "            if para.name not in attributes:\n",
    "                if para.name == 'Getconfirmation':\n",
    "                    if current_intent.name == \"SearchMovie\":\n",
    "                        botSays(\"Please confirm if we can get the movies playing for the criteria\")\n",
    "                        botSays(formatAttributes(attributes))\n",
    "                    elif current_intent.name == \"BookRestaurant\":\n",
    "                        botSays(\"Please confirm if we can get the restaurant for the criteria\")\n",
    "                        botSays(formatAttributes(attributes))\n",
    "                    context = Getconfirmation()                                            \n",
    "                return random.choice(para.prompts), context\n",
    "    return None, context\n",
    "\n",
    "\n",
    "def input_processor(user_input, context, attributes, intent):\n",
    "    '''Spellcheck and entity extraction functions go here'''\n",
    "    \n",
    "    #update the attributes, abstract over the entities in user input\n",
    "    attributes, cleaned_input = getattributes(user_input, context, attributes,intent)\n",
    "    \n",
    "    return attributes, cleaned_input\n",
    "\n",
    "def loadIntent(path, intent):\n",
    "    with open(path) as fil:\n",
    "        dat = json.load(fil)\n",
    "        intent = dat[intent]\n",
    "        return Intent(intent['intentname'],intent['intentenglishname'],intent['Parameters'],intent['actions'])\n",
    "\n",
    "def intentIdentifier(clean_input, context,current_intent):\n",
    "    clean_input = clean_input.lower()\n",
    "    scores = ngrammatch(clean_input)\n",
    "    scores = sorted_by_second = sorted(scores, key=lambda tup: tup[1])\n",
    "\n",
    "    if((current_intent==None) and (scores[-1][1] > 0.02)):\n",
    "        return loadIntent('params/MovieParams2.cfg',scores[-1][0])\n",
    "    else:\n",
    "        # 'same intent'\n",
    "        return current_intent\n",
    "\n",
    "def getattributes(uinput,context,attributes,intent):\n",
    "    '''This function marks the entities in user input, and updates the attributes dictionary'''\n",
    "    #Can use context to to context specific attribute fetching\n",
    "    if context.name.startswith('IntentComplete'):\n",
    "        return attributes, uinput\n",
    "    else:\n",
    "\n",
    "        files = os.listdir('./entities/')\n",
    "        entities = {}\n",
    "        for fil in files:\n",
    "            lines = open('./entities/'+fil).readlines()            \n",
    "            for i, line in enumerate(lines):\n",
    "                lines[i] = line[:-1]\n",
    "            entities[fil[:-4]] = '|'.join(lines)\n",
    "\n",
    "        for entity in entities:\n",
    "            for i in entities[entity].split('|'):\n",
    "                if i.lower() in uinput.lower():\n",
    "                    attributes[entity] = i\n",
    "        for entity in entities:\n",
    "                uinput = re.sub(entities[entity],r'$'+entity,uinput,flags=re.IGNORECASE)\n",
    "        \n",
    "        if context.name =='Getconfirmation' and context.active: \n",
    "                \n",
    "            if uinput.lower() == 'yes':\n",
    "                attributes['Getconfirmation'] = uinput.lower()                \n",
    "                context.active = False\n",
    "            if uinput.lower() == 'no':\n",
    "                print(\"Please enter the details for the  \", intent.englishname )\n",
    "                attributes ={}\n",
    "                context.active = True\n",
    "            \n",
    "        \n",
    "    return attributes, uinput"
   ]
  },
  {
   "cell_type": "code",
   "execution_count": 8,
   "metadata": {},
   "outputs": [],
   "source": [
    "class Session:\n",
    "    def __init__(self, attributes=None, active_contexts=[FirstGreeting(), IntentComplete() ]):\n",
    "        \n",
    "        '''Initialise a default session'''\n",
    "        \n",
    "        #Contexts are flags which control dialogue flow, see Contexts.py\n",
    "        self.active_contexts = active_contexts\n",
    "        self.context = FirstGreeting()\n",
    "        \n",
    "        #Intent tracks the current state of dialogue\n",
    "        self.current_intent = None\n",
    "        \n",
    "        #attributes hold the information collected over the conversation\n",
    "        self.attributes = {}\n",
    "        \n",
    "    def update_contexts(self):\n",
    "        '''Not used yet, but is intended to maintain active contexts'''\n",
    "        for context in self.active_contexts:\n",
    "            if context.active:\n",
    "                context.decrease_lifespan()\n",
    "\n",
    "    def reply(self, raw_user_input):\n",
    "        '''Generate response to user input'''\n",
    "\n",
    "        user_input = split_line(raw_user_input.lower())\n",
    "        #user_input = raw_user_input\n",
    "        if user_input != raw_user_input:\n",
    "            print(\"Spelling corrected: \",user_input)\n",
    "            \n",
    "        self.attributes, clean_input = input_processor(user_input, self.context, self.attributes, self.current_intent)\n",
    "        \n",
    "        self.current_intent = intentIdentifier(clean_input, self.context, self.current_intent)\n",
    "        if self.current_intent == None:\n",
    "            self.attributes = {}\n",
    "            self.context = FirstGreeting()\n",
    "            return \"Sorry, I didn't get you. I can help you in searching movies and restarunts only! Your preference please\"\n",
    "        \n",
    "        prompt, self.context = check_required_params(self.current_intent, self.attributes, self.context)\n",
    "\n",
    "        \n",
    "        #prompt being None means all parameters satisfied, perform the intent action\n",
    "        if prompt is None:\n",
    "            if self.context.name!='IntentComplete':\n",
    "                prompt, self .context = check_actions(self.current_intent, self.attributes, self.context)\n",
    "        \n",
    "        #Resets the state after the Intent is complete\n",
    "        if self.context.name=='IntentComplete':\n",
    "            self.attributes = {}\n",
    "            self.context = FirstGreeting()\n",
    "            self.current_intent = None\n",
    "        \n",
    "        return prompt"
   ]
  },
  {
   "cell_type": "code",
   "execution_count": null,
   "metadata": {},
   "outputs": [
    {
     "name": "stdout",
     "output_type": "stream",
     "text": [
      "\u001b[31m\u001b[1mBOT:\u001b[0m \u001b[32m\u001b[1mHi! I can help you find restaurants and movies. What is your preference?\u001b[0m\n",
      "User: want to see movies\n",
      "Spelling corrected:  want to see moves\n",
      "\u001b[31m\u001b[1mBOT:\u001b[0m \u001b[32m\u001b[1mWhat language do you want to watch the movie in (Hindi,Telugu,English)?\u001b[0m\n",
      "User: english\n",
      "\u001b[31m\u001b[1mBOT:\u001b[0m \u001b[32m\u001b[1mPlease choose any of (Action,Comedy,Thriller)?\u001b[0m\n",
      "User: action\n",
      "\u001b[31m\u001b[1mBOT:\u001b[0m \u001b[32m\u001b[1mIs there any specific actor's movie that you would want to watch?\u001b[0m\n",
      "User: deepikia padukone\n",
      "Spelling corrected:  deepika padukone\n",
      "\u001b[31m\u001b[1mBOT:\u001b[0m \u001b[32m\u001b[1mWhen do you want to watch the movie(Today,Tomorrow,Dayafter)?\u001b[0m\n",
      "User: today\n",
      "\u001b[32m\u001b[1mPlease confirm if we can get the movies playing for the criteria\u001b[0m\n",
      "\u001b[32m\u001b[1m\u001b[1m\u001b[1m\u001b[1m\u001b[1mgenre: Action\n",
      "date: Today\n",
      "language: English\n",
      "Actor: Deepika Padukone\n",
      "\u001b[0m\n",
      "\u001b[31m\u001b[1mBOT:\u001b[0m \u001b[32m\u001b[1mShould I go ahead and find movies? Please enter Yes or no\u001b[0m\n",
      "User: No\n",
      "Spelling corrected:  to\n",
      "\u001b[32m\u001b[1mPlease confirm if we can get the movies playing for the criteria\u001b[0m\n",
      "\u001b[32m\u001b[1m\u001b[1m\u001b[1m\u001b[1m\u001b[1mgenre: Action\n",
      "date: Today\n",
      "language: English\n",
      "Actor: Deepika Padukone\n",
      "\u001b[0m\n",
      "\u001b[31m\u001b[1mBOT:\u001b[0m \u001b[32m\u001b[1mShould I go ahead and find movies? Please enter Yes or no\u001b[0m\n"
     ]
    }
   ],
   "source": [
    "session = Session()\n",
    "\n",
    "print (colored('\\033[1m' + 'BOT:','red'), colored('\\033[1m'+'Hi! I can help you find restaurants and movies. What is your preference?','green'))\n",
    "\n",
    "while True:\n",
    "    inp = input('User: ')\n",
    "    if inp == 'exit':\n",
    "        print(colored('\\033[1m' + 'Bye then!','red'))\n",
    "        break\n",
    "    else:   \n",
    "        print(colored('\\033[1m' + 'BOT:','red'), colored('\\033[1m' + session.reply(inp),'green'))"
   ]
  },
  {
   "cell_type": "code",
   "execution_count": null,
   "metadata": {},
   "outputs": [],
   "source": []
  },
  {
   "cell_type": "code",
   "execution_count": null,
   "metadata": {},
   "outputs": [],
   "source": []
  },
  {
   "cell_type": "code",
   "execution_count": 80,
   "metadata": {},
   "outputs": [
    {
     "name": "stdout",
     "output_type": "stream",
     "text": [
      "{'cuisine': 'Chinese', 'costtype': 'High', 'location': 'East'} $cuisine $location $costtype\n"
     ]
    }
   ],
   "source": [
    "attributes = {}\n",
    "context = FirstGreeting()\n",
    "current_intent = None\n",
    "user_input = 'chinese east high'\n",
    "\n",
    "attributes, clean_input = input_processor(user_input, context, attributes, current_intent)\n",
    "print(attributes,clean_input)"
   ]
  },
  {
   "cell_type": "code",
   "execution_count": 84,
   "metadata": {},
   "outputs": [
    {
     "name": "stdout",
     "output_type": "stream",
     "text": [
      "   cuisine costtype location             Restaurant\n",
      "0  Chinese     High     East               Marigold\n",
      "1  Chinese     High     East       Once Upon a Time\n",
      "2  Chinese     High     East  Thai Pavilion-Vivanta\n"
     ]
    }
   ],
   "source": [
    "results = listRestarunts(attributes)\n",
    "if len(results) > 0:\n",
    "        #print(results)\n",
    "    message = results.to_string()\n",
    "else:\n",
    "    message = \"Sorry, I could not find results as per your criteria. Please try again\"\n",
    "print(message)"
   ]
  },
  {
   "cell_type": "code",
   "execution_count": 21,
   "metadata": {},
   "outputs": [
    {
     "name": "stdout",
     "output_type": "stream",
     "text": [
      "no\n",
      "done\n"
     ]
    }
   ],
   "source": [
    "myinput = split_line(\"no\")\n",
    "print(myinput)\n",
    "if myinput.lower() == 'no':\n",
    "    print(\"done\")"
   ]
  },
  {
   "cell_type": "code",
   "execution_count": 67,
   "metadata": {},
   "outputs": [
    {
     "ename": "TypeError",
     "evalue": "getattributes() missing 1 required positional argument: 'intent'",
     "output_type": "error",
     "traceback": [
      "\u001b[0;31m---------------------------------------------------------------------------\u001b[0m",
      "\u001b[0;31mTypeError\u001b[0m                                 Traceback (most recent call last)",
      "\u001b[0;32m<ipython-input-67-0e9d3c28b632>\u001b[0m in \u001b[0;36m<module>\u001b[0;34m()\u001b[0m\n\u001b[0;32m----> 1\u001b[0;31m \u001b[0mresults\u001b[0m \u001b[0;34m=\u001b[0m \u001b[0mgetattributes\u001b[0m\u001b[0;34m(\u001b[0m\u001b[0muser_input\u001b[0m\u001b[0;34m,\u001b[0m\u001b[0mcontext\u001b[0m\u001b[0;34m,\u001b[0m\u001b[0mattributes\u001b[0m\u001b[0;34m)\u001b[0m\u001b[0;34m\u001b[0m\u001b[0m\n\u001b[0m\u001b[1;32m      2\u001b[0m \u001b[0mtype\u001b[0m\u001b[0;34m(\u001b[0m\u001b[0mresults\u001b[0m\u001b[0;34m)\u001b[0m\u001b[0;34m\u001b[0m\u001b[0m\n",
      "\u001b[0;31mTypeError\u001b[0m: getattributes() missing 1 required positional argument: 'intent'"
     ]
    }
   ],
   "source": [
    "results = getattributes(user_input,context,attributes)\n"
   ]
  },
  {
   "cell_type": "code",
   "execution_count": null,
   "metadata": {},
   "outputs": [],
   "source": [
    "current_intent = intentIdentifier(clean_input,context, current_intent)"
   ]
  },
  {
   "cell_type": "code",
   "execution_count": null,
   "metadata": {},
   "outputs": [],
   "source": [
    "current_intent.name"
   ]
  }
 ],
 "metadata": {
  "kernelspec": {
   "display_name": "Python 3",
   "language": "python",
   "name": "python3"
  },
  "language_info": {
   "codemirror_mode": {
    "name": "ipython",
    "version": 3
   },
   "file_extension": ".py",
   "mimetype": "text/x-python",
   "name": "python",
   "nbconvert_exporter": "python",
   "pygments_lexer": "ipython3",
   "version": "3.5.2"
  }
 },
 "nbformat": 4,
 "nbformat_minor": 2
}
